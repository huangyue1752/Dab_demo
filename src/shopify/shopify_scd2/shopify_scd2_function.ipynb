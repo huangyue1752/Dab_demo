{
 "cells": [
  {
   "cell_type": "code",
   "execution_count": 0,
   "metadata": {
    "application/vnd.databricks.v1+cell": {
     "cellMetadata": {
      "byteLimit": 2048000,
      "rowLimit": 10000
     },
     "inputWidgets": {},
     "nuid": "52c6a776-46df-4713-9092-d23abe3ce707",
     "showTitle": false,
     "title": ""
    }
   },
   "outputs": [],
   "source": [
    "from pyspark.sql.functions import *\n",
    "from pyspark.sql.types import *\n",
    "\n",
    "def SCD2function():\n",
    "    catalog_name = \"streaming1\"\n",
    "    db_name = \"silver\"\n",
    "    table_name_stage = \"stg_product\"\n",
    "    table_name_dim = \"dim_product\"\n",
    "\n",
    "    column_name1=\"id\"\n",
    "    column_name2 = \"body_html\"\n",
    "    column_name3 = \"title\"\n",
    "    column_name4 = \"handle\"\n",
    "    column_name5 = \"product_type\"\n",
    "    column_name6 = \"vendor\"\n",
    "    column_name7 = \"created_at\"\n",
    "    column_name8 = \"status\"\n",
    "\n",
    "\n",
    "    db_name_source = \"_fivetran_setup_test\"\n",
    "    table_name_source = \"product\"\n",
    "    catalog_source = \"hive_metastore\"\n",
    "\n",
    "\n",
    "    df=spark.sql(f\"use catalog {catalog_name}\")\n",
    "    df=spark.sql(f\"use schema {db_name};\")\n",
    "\n",
    "    spark.sql(f\"drop table if exists {table_name_stage};\")\n",
    "\n",
    "    spark.sql(f\"create table {table_name_stage} ({column_name1} string, {column_name2} string, {column_name3} string, {column_name4} string, {column_name5} string, {column_name6} string, {column_name7} string, {column_name8} string) using delta;\")\n",
    "\n",
    "    spark.sql(f\"truncate table {table_name_stage};\")\n",
    "    spark.sql(f\"insert into {table_name_stage} select TRY_CAST({column_name1} as string) as id_, TRY_CAST({column_name2} as string),TRY_CAST({column_name3} as string),TRY_CAST({column_name4} as string),TRY_CAST({column_name5} as string),TRY_CAST({column_name6} as string),TRY_CAST({column_name7} as string),TRY_CAST({column_name8} as string) from {catalog_source}.{db_name_source}.{table_name_source};\")\n",
    "\n",
    "    df=spark.sql(f\"merge into {table_name_dim} a using (with q1 as (select * from {table_name_dim} where {column_name8}<>'inactive') select {column_name1} as mergeKey,* from {table_name_stage} union all select NULL as mergeKey, a.* from {table_name_stage} a join q1 b on a.{column_name1}=b.{column_name1} and b.{column_name1}<>'inactive' and (a.{column_name2}!=b.{column_name2} or a.{column_name3}!=b.{column_name3} or a.{column_name4}!=b.{column_name4} or a.{column_name5}!=b.{column_name5} or a.{column_name6}!=b.{column_name6} or a.{column_name7}!=b.{column_name7} ) ) b on a.{column_name1}=b.mergeKey WHEN MATCHED and (b.{column_name2} !=a.{column_name2} or b.{column_name3} !=a.{column_name3} or b.{column_name4} !=a.{column_name4} or b.{column_name5} !=a.{column_name5} or b.{column_name6} !=a.{column_name6} or b.{column_name7} !=a.{column_name7} or b.{column_name8} !=a.{column_name8}) then update set {column_name8}='inactive' ,a.end_date=current_date()-1 when NOT MATCHED THEN insert ({column_name1},{column_name2},{column_name3},{column_name4},{column_name5},{column_name6},{column_name7},{column_name8},start_date,end_date) values ({column_name1},{column_name2},{column_name3},{column_name4},{column_name5},{column_name6},{column_name7},{column_name8},current_date(),'9999-12-31');\")\n",
    "    df.display()"
   ]
  },
  {
   "cell_type": "code",
   "execution_count": 0,
   "metadata": {
    "application/vnd.databricks.v1+cell": {
     "cellMetadata": {
      "byteLimit": 2048000,
      "rowLimit": 10000
     },
     "inputWidgets": {},
     "nuid": "28d82626-bc59-41c1-97d6-a3ca8998e51c",
     "showTitle": false,
     "title": ""
    }
   },
   "outputs": [
    {
     "output_type": "display_data",
     "data": {
      "text/html": [
       "<style scoped>\n",
       "  .table-result-container {\n",
       "    max-height: 300px;\n",
       "    overflow: auto;\n",
       "  }\n",
       "  table, th, td {\n",
       "    border: 1px solid black;\n",
       "    border-collapse: collapse;\n",
       "  }\n",
       "  th, td {\n",
       "    padding: 5px;\n",
       "  }\n",
       "  th {\n",
       "    text-align: left;\n",
       "  }\n",
       "</style><div class='table-result-container'><table class='table-result'><thead style='background-color: white'><tr><th>num_affected_rows</th><th>num_updated_rows</th><th>num_deleted_rows</th><th>num_inserted_rows</th></tr></thead><tbody><tr><td>2</td><td>2</td><td>0</td><td>0</td></tr></tbody></table></div>"
      ]
     },
     "metadata": {
      "application/vnd.databricks.v1+output": {
       "addedWidgets": {},
       "aggData": [],
       "aggError": "",
       "aggOverflow": false,
       "aggSchema": [],
       "aggSeriesLimitReached": false,
       "aggType": "",
       "arguments": {},
       "columnCustomDisplayInfos": {},
       "data": [
        [
         2,
         2,
         0,
         0
        ]
       ],
       "datasetInfos": [],
       "dbfsResultPath": null,
       "isJsonSchema": true,
       "metadata": {},
       "overflow": false,
       "plotOptions": {
        "customPlotOptions": {},
        "displayType": "table",
        "pivotAggregation": null,
        "pivotColumns": null,
        "xColumns": null,
        "yColumns": null
       },
       "removedWidgets": [],
       "schema": [
        {
         "metadata": "{}",
         "name": "num_affected_rows",
         "type": "\"long\""
        },
        {
         "metadata": "{}",
         "name": "num_updated_rows",
         "type": "\"long\""
        },
        {
         "metadata": "{}",
         "name": "num_deleted_rows",
         "type": "\"long\""
        },
        {
         "metadata": "{}",
         "name": "num_inserted_rows",
         "type": "\"long\""
        }
       ],
       "type": "table"
      }
     },
     "output_type": "display_data"
    }
   ],
   "source": [
    "SCD2function()"
   ]
  },
  {
   "cell_type": "code",
   "execution_count": 0,
   "metadata": {
    "application/vnd.databricks.v1+cell": {
     "cellMetadata": {
      "byteLimit": 2048000,
      "rowLimit": 10000
     },
     "inputWidgets": {},
     "nuid": "0a97e77f-a958-4223-bc9a-c8fe98490391",
     "showTitle": false,
     "title": ""
    }
   },
   "outputs": [
    {
     "output_type": "display_data",
     "data": {
      "text/html": [
       "<style scoped>\n",
       "  .table-result-container {\n",
       "    max-height: 300px;\n",
       "    overflow: auto;\n",
       "  }\n",
       "  table, th, td {\n",
       "    border: 1px solid black;\n",
       "    border-collapse: collapse;\n",
       "  }\n",
       "  th, td {\n",
       "    padding: 5px;\n",
       "  }\n",
       "  th {\n",
       "    text-align: left;\n",
       "  }\n",
       "</style><div class='table-result-container'><table class='table-result'><thead style='background-color: white'><tr><th>id</th><th>body_html</th><th>title</th><th>handle</th><th>product_type</th><th>vendor</th><th>created_at</th><th>status</th><th>start_date</th><th>end_date</th></tr></thead><tbody><tr><td>9433797296426</td><td>The Stan Smith owned the tennis court in the '70s. Today it runs the streets with the same clean, classic style. These kids' shoes preserve the iconic look of the original, made in leather with punched 3-Stripes, heel and tongue logos and lightweight step-in cushioning.</td><td>ADIDAS | KID'S STAN SMITH</td><td>adidas-kids-stan-smith</td><td>SHOES</td><td>ADIDAS</td><td>2024-08-16 08:37:07</td><td>active</td><td>2024-09-09</td><td>9999-12-31</td></tr><tr><td>9437953065258</td><td>null</td><td>Green Snowboard</td><td>green-snowboard</td><td></td><td>tylerstorecoding</td><td>2024-08-18 00:46:43</td><td>active</td><td>2024-09-09</td><td>9999-12-31</td></tr><tr><td>9433802670378</td><td>Flexfit Mini Ottoman Cap</td><td>FLEX FIT | MINI OTTOMAN BLACK</td><td>flex-fit-mini-ottoman-black</td><td>ACCESSORIES</td><td>FLEX FIT</td><td>2024-08-16 08:37:20</td><td>active</td><td>2024-09-09</td><td>9999-12-31</td></tr><tr><td>9433781731626</td><td>Make a statement with the iconic Dr Marten's 1461Z DMC 3-Eye shoe. Stamped with Docs trademade look, this lace-up shoe is crafted with high-quality, durable smooth leather, and has been made to last. This unique shoe features an air-cushioned sole offering good abrasion and slip resistance, and is made with Goodyear welt - the sole and upper are heat-sealed and sewn together.</td><td>DR MARTENS | 1461 DMC 3-EYE SHOE | BLACK SMOOTH</td><td>dr-martens-1461-dmc-3-eye-shoe-black-smooth</td><td>SHOES</td><td>DR MARTENS</td><td>2024-08-16 08:36:27</td><td>active</td><td>2024-09-09</td><td>9999-12-31</td></tr><tr><td>9433805652266</td><td>This women's backpack has a glam look, thanks to a faux-leather build with an allover fur print. The front zip pocket keeps small things within reach, while an interior divider reins in potential chaos.</td><td>ADIDAS | CLASSIC BACKPACK</td><td>adidas-classic-backpack</td><td>ACCESSORIES</td><td>ADIDAS</td><td>2024-08-16 08:37:28</td><td>active</td><td>2024-09-09</td><td>9999-12-31</td></tr><tr><td>9433772425514</td><td>Vans are a staple in skate culture and street style, and this skate sneaker is no exception. Introduced in the early 70's, the Vans SK8 Hi was responsible for the reduced number of ankle injuries in the skating scene with the extra padded ankle support, but its popularity has grown across different cultural scenes. The Vans SK8 Hi True White is constructed from a combination of canvas and suede and features the signature side stripe detail and vulcanized waffle sole. Available in a range of colours.</td><td>VANS | SH-8 HI</td><td>vans-sh-8-hi</td><td>SHOES</td><td>VANS</td><td>2024-08-16 08:36:02</td><td>active</td><td>2024-09-09</td><td>9999-12-31</td></tr><tr><td>9437983703338</td><td>null</td><td>Green Snowboard</td><td>green-snowboard-2</td><td></td><td>tylerstorecoding</td><td>2024-08-18 01:37:21</td><td>active</td><td>2024-09-09</td><td>9999-12-31</td></tr><tr><td>9433756303658</td><td>Vans are a staple in skate culture and street style, and the Vans Era 59 is no exception. This classic lace-up skate shoe is focused on ultimate comfort and cool. Constructed from canvas with leather accents which sets it apart from the original Era, it features a soft footbed, double stitched vamp, a padded tongue and lining, as well as Vans' signature waffle sole.</td><td>VANS | \n",
       "ERA 59 MOROCCAN | GEO/DRESS BLUES</td><td>vans-era-59-moroccan-geo-dress-blues</td><td>SHOES</td><td>VANS</td><td>2024-08-16 08:35:17</td><td>active</td><td>2024-09-09</td><td>9999-12-31</td></tr><tr><td>9433778815274</td><td>Timberland has been refining their craft of producing hard-wearing boots for decades. The 6-Inch Premium Waterproof Boot (or Wheat Boot) is the original men's Timberland boot and was first designed nearly 40 years ago. Continuous improvements to the design and construction, such as the addition of Timberland's exclusive anti-fatigue technology for all day comfort, has cemented these boots as a sturdy and dependable staple in anyone's shoe collection. The premium waterproof leather, seam-sealed construction and rugged lug outsoles provides long-lasting durability and comfort to help you get through any environmental conditions and adventure. An absolute must-have.</td><td>TIMBERLAND | MENS 6 INCH PREMIUM BOOT</td><td>timberland-mens-6-inch-premium-boot</td><td>SHOES</td><td>TIMBERLAND</td><td>2024-08-16 08:36:19</td><td>active</td><td>2024-09-09</td><td>9999-12-31</td></tr><tr><td>9433800278314</td><td>Featuring a cinch closure concealed by a slender top flap, the Iona backpack unites everyday practicality with clean design.</td><td>HERSCHEL | IONA</td><td>herschel-iona</td><td>ACCESSORIES</td><td>HERSCHEL</td><td>2024-08-16 08:37:14</td><td>active</td><td>2024-09-09</td><td>9999-12-31</td></tr><tr><td>9433783959850</td><td>Make a statement with the Dr Marten's Cavendish 3-Eye shoe. Stamped with Docs trademade look, this lace-up shoe is crafted with high-quality, durable smooth leather, and has been made to last. This unique shoe features an air-cushioned sole offering good abrasion and slip resistance, and is made with Goodyear welt - the sole and upper are heat-sealed and sewn together.</td><td>DR MARTENS | CAVENDISH 3-EYE SHOE BLACK</td><td>dr-martens-cavendish-3-eye-shoe-black</td><td>SHOES</td><td>DR MARTENS</td><td>2024-08-16 08:36:33</td><td>active</td><td>2024-09-09</td><td>9999-12-31</td></tr><tr><td>9433750602026</td><td>The forefather of the Vans family, the original Vans Authentic was introduced in 1966 and nearly 4 decades later is still going strong, its popularity extending from the original fans - skaters and surfers to all sorts. Now remodeled into a low top lace-up with a slim silhouette, the Vans Authentic Lo Pro features sturdy canvas uppers with lower sidewalls, metal eyelets, and low profile mini waffle outsoles for a lightweight feel.</td><td>VANS |AUTHENTIC | LO PRO | BURGANDY/WHITE</td><td>vans-authentic-lo-pro-burgandy-white</td><td>SHOES</td><td>VANS</td><td>2024-08-16 08:34:59</td><td>active</td><td>2024-09-09</td><td>9999-12-31</td></tr><tr><td>9433770295594</td><td>Vans are a staple in skate culture and street style, and the Vans Era 59 is no exception. This classic lace-up skate shoe is focused on ultimate comfort and cool. Constructed from canvas with leather accents which sets it apart from the original Era, it features a soft footbed, double stitched vamp, a padded tongue and lining, as well as Vans' signature waffle sole. </td><td>VANS | ERA 59 (DESERT COWBOY)</td><td>vans-era-59-desert-cowboy</td><td>SHOES</td><td>VANS</td><td>2024-08-16 08:35:56</td><td>active</td><td>2024-09-09</td><td>9999-12-31</td></tr><tr><td>9433753977130</td><td>The forefather of the Vans family, the Vans Authentic was introduced in 1966 and nearly 4 decades later is still going strong, its popularity extending from the original fans - skaters and surfers to all sorts. The Vans Authentic is constructed from canvas and Vans' signature waffle outsole construction.</td><td>VANS | AUTHENTIC (BUTTERFLY) TRUE | WHITE / BLACK</td><td>vans-authentic-butterfly-true-white-black</td><td>SHOES</td><td>VANS</td><td>2024-08-16 08:35:11</td><td>active</td><td>2024-09-09</td><td>9999-12-31</td></tr><tr><td>9433758531882</td><td>The Vans Cut Out Sk8-Hi Decon brings a twist to the iconic Vans Sk8-Hi silhouette: a new deconstructed leather high-top upper with a custom die cut design that lets the material shape on its own accord without much structural constriction. It also features signature rubber waffle outsoles.</td><td>VANS | SK8-HI DECON (CUTOUT)| LEAVES/WHITE</td><td>vans-sk8-hi-decon-cutout-leaves-white</td><td>SHOES</td><td>VANS</td><td>2024-08-16 08:35:22</td><td>active</td><td>2024-09-09</td><td>9999-12-31</td></tr><tr><td>9437953098026</td><td>null</td><td>Green Snowboard</td><td>green-snowboard-1</td><td></td><td>tylerstorecoding</td><td>2024-08-18 00:46:45</td><td>active</td><td>2024-09-09</td><td>9999-12-31</td></tr><tr><td>9433574375722</td><td><p>white T-shirt</p>\n",
       "<!----></td><td>T shirt</td><td>t-shirt</td><td>T-shirt</td><td>NA</td><td>2024-08-16 08:26:27</td><td>active</td><td>2024-09-09</td><td>9999-12-31</td></tr><tr><td>9437953425706</td><td>null</td><td>Red Snowboard</td><td>red-snowboard</td><td></td><td>tylerstorecoding</td><td>2024-08-18 00:47:02</td><td>active</td><td>2024-09-09</td><td>9999-12-31</td></tr><tr><td>9433752371498</td><td>The forefather of the Vans family, the Vans Authentic was introduced in 1966 and nearly 4 decades later is still going strong, its popularity extending from the original fans - skaters and surfers to all sorts. The Vans Authentic is constructed from canvas and Vans' signature waffle outsole construction.</td><td>VANS | AUTHENTIC | (MULTI EYELETS) | GRADIENT/CRIMSON</td><td>vans-authentic-multi-eyelets-gradient-crimson</td><td>SHOES</td><td>VANS</td><td>2024-08-16 08:35:05</td><td>active</td><td>2024-09-09</td><td>9999-12-31</td></tr><tr><td>9433798345002</td><td>The classic super no show socks are for all your low top shoes like Classic Slip-Ons. These socks are designed to stay hidden under your shoes for an athletic look with either jeans or shorts. Thin walled breathable cotton/nylon blend.</td><td>VANS APPAREL AND ACCESSORIES | CLASSIC SUPER NO SHOW SOCKS 3 PACK WHITE</td><td>vans-apparel-and-accessories-classic-super-no-show-socks-3-pack-white</td><td>ACCESSORIES</td><td>VANS</td><td>2024-08-16 08:37:10</td><td>active</td><td>2024-09-09</td><td>9999-12-31</td></tr><tr><td>9433764856106</td><td>First introduced in 1968, the Puma Suede Classic is Puma's most epic sneaker with its athletic inspired design and smooth suede. The Puma Suede Classic Regal Red/White is constructed with a suede upper and contrasting low profile rubber sole, and fat laces, the classic continues to make its mark on the streets today.</td><td>PUMA | SUEDE CLASSIC REGAL</td><td>puma-suede-classic-regal</td><td>SHOES</td><td>PUMA</td><td>2024-08-16 08:35:39</td><td>active</td><td>2024-09-09</td><td>9999-12-31</td></tr><tr><td>9433786384682</td><td>Make a statement with these iconic Dr Marten boots. This classic style has stood the test of time thanks to the combination of reinvented styling and the rugged yet urban look. Crafted with high-quality, durable leathers, the 1460OZ DMC 8-Eye Boot Cherry Smooth is made to last and will only get better with time. This lace-up boot features the iconic Dr Martens air-cushioned sole offering good abrasion and slip resistance, and is made with Goodyear welt - the sole and upper are heat-sealed and sewn together.</td><td>DR MARTENS | 1460Z DMC 8-EYE BOOT | CHERRY SMOOTH</td><td>dr-martens-1460z-dmc-8-eye-boot-cherry-smooth</td><td>SHOES</td><td>DR MARTENS</td><td>2024-08-16 08:36:38</td><td>active</td><td>2024-09-09</td><td>9999-12-31</td></tr><tr><td>9433776816426</td><td>The Perforated Suede Classic Slip-On features low profile slip-on perforated suede uppers,, padded collars, elastic side accents, and signature rubber waffle outsoles.</td><td>VANS | CLASSIC SLIP-ON (PERFORATED SUEDE)</td><td>vans-classic-slip-on-perforated-suede</td><td>SHOES</td><td>VANS</td><td>2024-08-16 08:36:13</td><td>active</td><td>2024-09-09</td><td>9999-12-31</td></tr><tr><td>9433760694570</td><td>The Palladium iconic classic receives a subtle, yet stylish update. The Pallatech Hi TX features a full grain leather upper with cotton canvas and soft cuff around the collar, providing even more comfort. The boot is finished with a single-unit molded rubber outsole, offering excellent traction while exploring your city. The EVA-cushioned footbed and hugging heel cup cradle the foot for lasting support.</td><td>PALLADIUM | PALLATECH HI TX | CHEVRON</td><td>palladium-pallatech-hi-tx-chevron</td><td>SHOES</td><td>PALLADIUM</td><td>2024-08-16 08:35:28</td><td>active</td><td>2024-09-09</td><td>9999-12-31</td></tr><tr><td>9433807126826</td><td>The adidas BP Classic Cap features a pre-curved brim to keep your face shaded, while a hook-and-loop adjustable closure provides a comfortable fit. With a 3-Stripes design and reflective accents. The perfect piece to top off any outfit.</td><td>ADIDAS | CLASSIC BACKPACK | LEGEND INK MULTICOLOUR</td><td>adidas-classic-backpack-legend-ink-multicolour</td><td>ACCESSORIES</td><td>ADIDAS</td><td>2024-08-16 08:37:32</td><td>active</td><td>2024-09-09</td><td>9999-12-31</td></tr><tr><td>9433766887722</td><td>Supra introduces the Vaider. A stylishly designed high top upper on a vulcanized sole that supplies excellent traction and board feel. A padded collar and tongue lining provide superior comfort</td><td>SUPRA | MENS VAIDER</td><td>supra-mens-vaider</td><td>SHOES</td><td>SUPRA</td><td>2024-08-16 08:35:45</td><td>active</td><td>2024-09-09</td><td>9999-12-31</td></tr><tr><td>9433795428650</td><td>The Nike Roshe One Infant Shoe offers breathable comfort and soft yet durable cushioning with a mesh upper and Phylon midsole that doubles as an outsole. The shoe is intended to be versatile, worn with or without socks, dressed up or down, for walking or just taking it easy.</td><td>NIKE | TODDLER ROSHE ONE</td><td>nike-toddler-roshe-one</td><td>SHOES</td><td>NIKE</td><td>2024-08-16 08:37:02</td><td>active</td><td>2024-09-09</td><td>9999-12-31</td></tr><tr><td>9433774489898</td><td>Vans are a staple in skate culture and street style, and this skate sneaker is no exception. Introduced in 1977, the Vans Old Skool sneaker is a classic in the Vans collection. Full of attitude, the Old Skool is durable and lightweight, and can give the other boys in the collection a run for its money. Constructed from canvas, The Vans Old Skool features contrasting suede panels along the toe and heel, plus the iconic stripe along the side of the shoe, and sits over a chunky midsole.</td><td>VANS | OLD SKOOL (BUTTERFLY) TRUE WHITE | BLACK</td><td>vans-old-skool-butterfly-true-white-black</td><td>SHOES</td><td>VANS</td><td>2024-08-16 08:36:07</td><td>active</td><td>2024-09-09</td><td>9999-12-31</td></tr><tr><td>9433804505386</td><td>The Nike Swoosh Pro Flat Snapback features an embroidered logo for style and wool construction with an adjustable closure for a comfortable fit.</td><td>NIKE | SWOOSH PRO FLAT PEAK CAP</td><td>nike-swoosh-pro-flat-peak-cap</td><td>ACCESSORIES</td><td>NIKE</td><td>2024-08-16 08:37:24</td><td>active</td><td>2024-09-09</td><td>9999-12-31</td></tr><tr><td>9433762726186</td><td>The iconic ASICS Tiger GEL-Lyte III was originally released in 1990. Having over two decades of performance heritage, it offers fine design detailing and a padded split tongue to eliminate tongue movement, built on a sleek silhouette. It comes as no surprise the Gel-Lyte III is a fast growing popular choice for sneaker enthusiasts all over the world.</td><td>ASICS TIGER | GEL-LYTE V '30 YEARS OF GEL' PACK</td><td>asics-tiger-gel-lyte-v-30-years-of-gel-pack</td><td>SHOES</td><td>ASICS TIGER</td><td>2024-08-16 08:35:34</td><td>active</td><td>2024-09-09</td><td>9999-12-31</td></tr><tr><td>9433791234346</td><td>Introducing the Converse Chuck Taylor All Star II Hi sneaker. Retaining the revolutionary silhouette we all rely on, but now made ever better. New features include Lunarlon sockliner adds cushioning and arch support. Micro-suede lining, premium textured shield canvas construction and a padded, non-slip tongue deliver superior comfort and durability. Moulded eyelets add a premium touch. The embossed, screen-printed license plate and embroidered, star-centered ankle patch add striking depth and dimension to recognizable, classic details.</td><td>CONVERSE | CHUCK TAYLOR ALL STAR II HI</td><td>converse-chuck-taylor-all-star-ii-hi</td><td>SHOES</td><td>CONVERSE</td><td>2024-08-16 08:36:50</td><td>active</td><td>2024-09-09</td><td>9999-12-31</td></tr><tr><td>9433788809514</td><td>The Converse Chuck Taylor All Star II Lo sneaker. Retaining the revolutionary silhouette we all rely on, but now made even better. New features include Lunarlon sockliner, adding cushioning and arch support. Micro-suede lining, premium canvas construction and a padded, non-slip tongue deliver superior comfort and durability. Moulded eyelets add a premium touch. The embossed, screen-printed license plate and embroidered, star-centered ankle patch add striking depth and dimension to recognizable, classic details.</td><td>CONVERSE | CHUCK TAYLOR ALL STAR LO</td><td>converse-chuck-taylor-all-star-lo</td><td>SHOES</td><td>CONVERSE</td><td>2024-08-16 08:36:44</td><td>active</td><td>2024-09-09</td><td>9999-12-31</td></tr><tr><td>9433793495338</td><td>The Converse Chuck Taylor All Star Axel recasts the iconic original in a refreshed silhouette for a premium look and feel. A no-tie design lets kids slip them on and go, while a rubber outsole delivers reliable traction from the classroom to the playground.</td><td>CONVERSE | TODDLER CHUCK TAYLOR ALL STAR AXEL MID</td><td>converse-toddler-chuck-taylor-all-star-axel-mid</td><td>SHOES</td><td>CONVERSE</td><td>2024-08-16 08:36:56</td><td>active</td><td>2024-09-09</td><td>9999-12-31</td></tr><tr><td>9433780125994</td><td>Meet your new favorite tee, the Nike Crackle Print T-Shirt. Bringing its A-game in soft, premium fabric, it features a ribbed crew neck and a woven Nike label on the hem.</td><td>NIKE | CRACKLE PRINT TB TEE</td><td>nike-crackle-print-tb-tee</td><td>T-SHIRTS</td><td>NIKE</td><td>2024-08-16 08:36:23</td><td>active</td><td>2024-09-09</td><td>9999-12-31</td></tr><tr><td>9476055531818</td><td></td><td>dummy3</td><td>dummy3</td><td></td><td>tylerstorecoding</td><td>2024-09-08 22:15:32</td><td>active</td><td>2024-09-09</td><td>9999-12-31</td></tr><tr><td>9476049010986</td><td></td><td>dummy9-8</td><td>dummy9-8</td><td></td><td>tylerstorecoding</td><td>2024-09-08 21:55:58</td><td>active</td><td>2024-09-09</td><td>9999-12-31</td></tr><tr><td>9476049240362</td><td>null</td><td>null</td><td>null</td><td>null</td><td>null</td><td>null</td><td>null</td><td>2024-09-09</td><td>9999-12-31</td></tr><tr><td>9433768526122</td><td><p>There's a shell toe for every season, and the adidas Originals Superstar 80s shoes have a full grain leather upper with a shiny badge on the tongue that makes these shoes ready for any time of year.???</p></td><td>ADIDAS | SUPERSTAR 80S</td><td>adidas-superstar-80s</td><td>SHOES</td><td>ADIDAS</td><td>2024-08-16 08:35:51</td><td>inactive</td><td>2024-09-09</td><td>2024-09-08</td></tr><tr><td>9433768526122</td><td><p>There's a shell toe for every season, and the adidas Originals Superstar 80s shoes have a full grain leather upper with a shiny badge on the tongue that makes these shoes ready for any time of year.</p></td><td>ADIDAS | SUPERSTAR 80S</td><td>adidas-superstar-80s</td><td>SHOES</td><td>ADIDAS</td><td>2024-08-16 08:35:51</td><td>inactive</td><td>2024-09-09</td><td>2024-09-08</td></tr><tr><td>9433768526122</td><td><p>There's a shell toe for every season, and the adidas Originals Superstar 80s shoes have a full grain leather upper with a shiny badge on the tongue that makes these shoes ready for any time of year.111</p></td><td>ADIDAS | SUPERSTAR 80S</td><td>adidas-superstar-80s</td><td>SHOES</td><td>ADIDAS</td><td>2024-08-16 08:35:51</td><td>active</td><td>2024-09-09</td><td>9999-12-31</td></tr></tbody></table></div>"
      ]
     },
     "metadata": {
      "application/vnd.databricks.v1+output": {
       "addedWidgets": {},
       "aggData": [],
       "aggError": "",
       "aggOverflow": false,
       "aggSchema": [],
       "aggSeriesLimitReached": false,
       "aggType": "",
       "arguments": {},
       "columnCustomDisplayInfos": {},
       "data": [
        [
         "9433797296426",
         "The Stan Smith owned the tennis court in the '70s. Today it runs the streets with the same clean, classic style. These kids' shoes preserve the iconic look of the original, made in leather with punched 3-Stripes, heel and tongue logos and lightweight step-in cushioning.",
         "ADIDAS | KID'S STAN SMITH",
         "adidas-kids-stan-smith",
         "SHOES",
         "ADIDAS",
         "2024-08-16 08:37:07",
         "active",
         "2024-09-09",
         "9999-12-31"
        ],
        [
         "9437953065258",
         null,
         "Green Snowboard",
         "green-snowboard",
         "",
         "tylerstorecoding",
         "2024-08-18 00:46:43",
         "active",
         "2024-09-09",
         "9999-12-31"
        ],
        [
         "9433802670378",
         "Flexfit Mini Ottoman Cap",
         "FLEX FIT | MINI OTTOMAN BLACK",
         "flex-fit-mini-ottoman-black",
         "ACCESSORIES",
         "FLEX FIT",
         "2024-08-16 08:37:20",
         "active",
         "2024-09-09",
         "9999-12-31"
        ],
        [
         "9433781731626",
         "Make a statement with the iconic Dr Marten's 1461Z DMC 3-Eye shoe. Stamped with Docs trademade look, this lace-up shoe is crafted with high-quality, durable smooth leather, and has been made to last. This unique shoe features an air-cushioned sole offering good abrasion and slip resistance, and is made with Goodyear welt - the sole and upper are heat-sealed and sewn together.",
         "DR MARTENS | 1461 DMC 3-EYE SHOE | BLACK SMOOTH",
         "dr-martens-1461-dmc-3-eye-shoe-black-smooth",
         "SHOES",
         "DR MARTENS",
         "2024-08-16 08:36:27",
         "active",
         "2024-09-09",
         "9999-12-31"
        ],
        [
         "9433805652266",
         "This women's backpack has a glam look, thanks to a faux-leather build with an allover fur print. The front zip pocket keeps small things within reach, while an interior divider reins in potential chaos.",
         "ADIDAS | CLASSIC BACKPACK",
         "adidas-classic-backpack",
         "ACCESSORIES",
         "ADIDAS",
         "2024-08-16 08:37:28",
         "active",
         "2024-09-09",
         "9999-12-31"
        ],
        [
         "9433772425514",
         "Vans are a staple in skate culture and street style, and this skate sneaker is no exception. Introduced in the early 70's, the Vans SK8 Hi was responsible for the reduced number of ankle injuries in the skating scene with the extra padded ankle support, but its popularity has grown across different cultural scenes. The Vans SK8 Hi True White is constructed from a combination of canvas and suede and features the signature side stripe detail and vulcanized waffle sole. Available in a range of colours.",
         "VANS | SH-8 HI",
         "vans-sh-8-hi",
         "SHOES",
         "VANS",
         "2024-08-16 08:36:02",
         "active",
         "2024-09-09",
         "9999-12-31"
        ],
        [
         "9437983703338",
         null,
         "Green Snowboard",
         "green-snowboard-2",
         "",
         "tylerstorecoding",
         "2024-08-18 01:37:21",
         "active",
         "2024-09-09",
         "9999-12-31"
        ],
        [
         "9433756303658",
         "Vans are a staple in skate culture and street style, and the Vans Era 59 is no exception. This classic lace-up skate shoe is focused on ultimate comfort and cool. Constructed from canvas with leather accents which sets it apart from the original Era, it features a soft footbed, double stitched vamp, a padded tongue and lining, as well as Vans' signature waffle sole.",
         "VANS | \nERA 59 MOROCCAN | GEO/DRESS BLUES",
         "vans-era-59-moroccan-geo-dress-blues",
         "SHOES",
         "VANS",
         "2024-08-16 08:35:17",
         "active",
         "2024-09-09",
         "9999-12-31"
        ],
        [
         "9433778815274",
         "Timberland has been refining their craft of producing hard-wearing boots for decades. The 6-Inch Premium Waterproof Boot (or Wheat Boot) is the original men's Timberland boot and was first designed nearly 40 years ago. Continuous improvements to the design and construction, such as the addition of Timberland's exclusive anti-fatigue technology for all day comfort, has cemented these boots as a sturdy and dependable staple in anyone's shoe collection. The premium waterproof leather, seam-sealed construction and rugged lug outsoles provides long-lasting durability and comfort to help you get through any environmental conditions and adventure. An absolute must-have.",
         "TIMBERLAND | MENS 6 INCH PREMIUM BOOT",
         "timberland-mens-6-inch-premium-boot",
         "SHOES",
         "TIMBERLAND",
         "2024-08-16 08:36:19",
         "active",
         "2024-09-09",
         "9999-12-31"
        ],
        [
         "9433800278314",
         "Featuring a cinch closure concealed by a slender top flap, the Iona backpack unites everyday practicality with clean design.",
         "HERSCHEL | IONA",
         "herschel-iona",
         "ACCESSORIES",
         "HERSCHEL",
         "2024-08-16 08:37:14",
         "active",
         "2024-09-09",
         "9999-12-31"
        ],
        [
         "9433783959850",
         "Make a statement with the Dr Marten's Cavendish 3-Eye shoe. Stamped with Docs trademade look, this lace-up shoe is crafted with high-quality, durable smooth leather, and has been made to last. This unique shoe features an air-cushioned sole offering good abrasion and slip resistance, and is made with Goodyear welt - the sole and upper are heat-sealed and sewn together.",
         "DR MARTENS | CAVENDISH 3-EYE SHOE BLACK",
         "dr-martens-cavendish-3-eye-shoe-black",
         "SHOES",
         "DR MARTENS",
         "2024-08-16 08:36:33",
         "active",
         "2024-09-09",
         "9999-12-31"
        ],
        [
         "9433750602026",
         "The forefather of the Vans family, the original Vans Authentic was introduced in 1966 and nearly 4 decades later is still going strong, its popularity extending from the original fans - skaters and surfers to all sorts. Now remodeled into a low top lace-up with a slim silhouette, the Vans Authentic Lo Pro features sturdy canvas uppers with lower sidewalls, metal eyelets, and low profile mini waffle outsoles for a lightweight feel.",
         "VANS |AUTHENTIC | LO PRO | BURGANDY/WHITE",
         "vans-authentic-lo-pro-burgandy-white",
         "SHOES",
         "VANS",
         "2024-08-16 08:34:59",
         "active",
         "2024-09-09",
         "9999-12-31"
        ],
        [
         "9433770295594",
         "Vans are a staple in skate culture and street style, and the Vans Era 59 is no exception. This classic lace-up skate shoe is focused on ultimate comfort and cool. Constructed from canvas with leather accents which sets it apart from the original Era, it features a soft footbed, double stitched vamp, a padded tongue and lining, as well as Vans' signature waffle sole. ",
         "VANS | ERA 59 (DESERT COWBOY)",
         "vans-era-59-desert-cowboy",
         "SHOES",
         "VANS",
         "2024-08-16 08:35:56",
         "active",
         "2024-09-09",
         "9999-12-31"
        ],
        [
         "9433753977130",
         "The forefather of the Vans family, the Vans Authentic was introduced in 1966 and nearly 4 decades later is still going strong, its popularity extending from the original fans - skaters and surfers to all sorts. The Vans Authentic is constructed from canvas and Vans' signature waffle outsole construction.",
         "VANS | AUTHENTIC (BUTTERFLY) TRUE | WHITE / BLACK",
         "vans-authentic-butterfly-true-white-black",
         "SHOES",
         "VANS",
         "2024-08-16 08:35:11",
         "active",
         "2024-09-09",
         "9999-12-31"
        ],
        [
         "9433758531882",
         "The Vans Cut Out Sk8-Hi Decon brings a twist to the iconic Vans Sk8-Hi silhouette: a new deconstructed leather high-top upper with a custom die cut design that lets the material shape on its own accord without much structural constriction. It also features signature rubber waffle outsoles.",
         "VANS | SK8-HI DECON (CUTOUT)| LEAVES/WHITE",
         "vans-sk8-hi-decon-cutout-leaves-white",
         "SHOES",
         "VANS",
         "2024-08-16 08:35:22",
         "active",
         "2024-09-09",
         "9999-12-31"
        ],
        [
         "9437953098026",
         null,
         "Green Snowboard",
         "green-snowboard-1",
         "",
         "tylerstorecoding",
         "2024-08-18 00:46:45",
         "active",
         "2024-09-09",
         "9999-12-31"
        ],
        [
         "9433574375722",
         "<p>white T-shirt</p>\n<!---->",
         "T shirt",
         "t-shirt",
         "T-shirt",
         "NA",
         "2024-08-16 08:26:27",
         "active",
         "2024-09-09",
         "9999-12-31"
        ],
        [
         "9437953425706",
         null,
         "Red Snowboard",
         "red-snowboard",
         "",
         "tylerstorecoding",
         "2024-08-18 00:47:02",
         "active",
         "2024-09-09",
         "9999-12-31"
        ],
        [
         "9433752371498",
         "The forefather of the Vans family, the Vans Authentic was introduced in 1966 and nearly 4 decades later is still going strong, its popularity extending from the original fans - skaters and surfers to all sorts. The Vans Authentic is constructed from canvas and Vans' signature waffle outsole construction.",
         "VANS | AUTHENTIC | (MULTI EYELETS) | GRADIENT/CRIMSON",
         "vans-authentic-multi-eyelets-gradient-crimson",
         "SHOES",
         "VANS",
         "2024-08-16 08:35:05",
         "active",
         "2024-09-09",
         "9999-12-31"
        ],
        [
         "9433798345002",
         "The classic super no show socks are for all your low top shoes like Classic Slip-Ons. These socks are designed to stay hidden under your shoes for an athletic look with either jeans or shorts. Thin walled breathable cotton/nylon blend.",
         "VANS APPAREL AND ACCESSORIES | CLASSIC SUPER NO SHOW SOCKS 3 PACK WHITE",
         "vans-apparel-and-accessories-classic-super-no-show-socks-3-pack-white",
         "ACCESSORIES",
         "VANS",
         "2024-08-16 08:37:10",
         "active",
         "2024-09-09",
         "9999-12-31"
        ],
        [
         "9433764856106",
         "First introduced in 1968, the Puma Suede Classic is Puma's most epic sneaker with its athletic inspired design and smooth suede. The Puma Suede Classic Regal Red/White is constructed with a suede upper and contrasting low profile rubber sole, and fat laces, the classic continues to make its mark on the streets today.",
         "PUMA | SUEDE CLASSIC REGAL",
         "puma-suede-classic-regal",
         "SHOES",
         "PUMA",
         "2024-08-16 08:35:39",
         "active",
         "2024-09-09",
         "9999-12-31"
        ],
        [
         "9433786384682",
         "Make a statement with these iconic Dr Marten boots. This classic style has stood the test of time thanks to the combination of reinvented styling and the rugged yet urban look. Crafted with high-quality, durable leathers, the 1460OZ DMC 8-Eye Boot Cherry Smooth is made to last and will only get better with time. This lace-up boot features the iconic Dr Martens air-cushioned sole offering good abrasion and slip resistance, and is made with Goodyear welt - the sole and upper are heat-sealed and sewn together.",
         "DR MARTENS | 1460Z DMC 8-EYE BOOT | CHERRY SMOOTH",
         "dr-martens-1460z-dmc-8-eye-boot-cherry-smooth",
         "SHOES",
         "DR MARTENS",
         "2024-08-16 08:36:38",
         "active",
         "2024-09-09",
         "9999-12-31"
        ],
        [
         "9433776816426",
         "The Perforated Suede Classic Slip-On features low profile slip-on perforated suede uppers,, padded collars, elastic side accents, and signature rubber waffle outsoles.",
         "VANS | CLASSIC SLIP-ON (PERFORATED SUEDE)",
         "vans-classic-slip-on-perforated-suede",
         "SHOES",
         "VANS",
         "2024-08-16 08:36:13",
         "active",
         "2024-09-09",
         "9999-12-31"
        ],
        [
         "9433760694570",
         "The Palladium iconic classic receives a subtle, yet stylish update. The Pallatech Hi TX features a full grain leather upper with cotton canvas and soft cuff around the collar, providing even more comfort. The boot is finished with a single-unit molded rubber outsole, offering excellent traction while exploring your city. The EVA-cushioned footbed and hugging heel cup cradle the foot for lasting support.",
         "PALLADIUM | PALLATECH HI TX | CHEVRON",
         "palladium-pallatech-hi-tx-chevron",
         "SHOES",
         "PALLADIUM",
         "2024-08-16 08:35:28",
         "active",
         "2024-09-09",
         "9999-12-31"
        ],
        [
         "9433807126826",
         "The adidas BP Classic Cap features a pre-curved brim to keep your face shaded, while a hook-and-loop adjustable closure provides a comfortable fit. With a 3-Stripes design and reflective accents. The perfect piece to top off any outfit.",
         "ADIDAS | CLASSIC BACKPACK | LEGEND INK MULTICOLOUR",
         "adidas-classic-backpack-legend-ink-multicolour",
         "ACCESSORIES",
         "ADIDAS",
         "2024-08-16 08:37:32",
         "active",
         "2024-09-09",
         "9999-12-31"
        ],
        [
         "9433766887722",
         "Supra introduces the Vaider. A stylishly designed high top upper on a vulcanized sole that supplies excellent traction and board feel. A padded collar and tongue lining provide superior comfort",
         "SUPRA | MENS VAIDER",
         "supra-mens-vaider",
         "SHOES",
         "SUPRA",
         "2024-08-16 08:35:45",
         "active",
         "2024-09-09",
         "9999-12-31"
        ],
        [
         "9433795428650",
         "The Nike Roshe One Infant Shoe offers breathable comfort and soft yet durable cushioning with a mesh upper and Phylon midsole that doubles as an outsole. The shoe is intended to be versatile, worn with or without socks, dressed up or down, for walking or just taking it easy.",
         "NIKE | TODDLER ROSHE ONE",
         "nike-toddler-roshe-one",
         "SHOES",
         "NIKE",
         "2024-08-16 08:37:02",
         "active",
         "2024-09-09",
         "9999-12-31"
        ],
        [
         "9433774489898",
         "Vans are a staple in skate culture and street style, and this skate sneaker is no exception. Introduced in 1977, the Vans Old Skool sneaker is a classic in the Vans collection. Full of attitude, the Old Skool is durable and lightweight, and can give the other boys in the collection a run for its money. Constructed from canvas, The Vans Old Skool features contrasting suede panels along the toe and heel, plus the iconic stripe along the side of the shoe, and sits over a chunky midsole.",
         "VANS | OLD SKOOL (BUTTERFLY) TRUE WHITE | BLACK",
         "vans-old-skool-butterfly-true-white-black",
         "SHOES",
         "VANS",
         "2024-08-16 08:36:07",
         "active",
         "2024-09-09",
         "9999-12-31"
        ],
        [
         "9433804505386",
         "The Nike Swoosh Pro Flat Snapback features an embroidered logo for style and wool construction with an adjustable closure for a comfortable fit.",
         "NIKE | SWOOSH PRO FLAT PEAK CAP",
         "nike-swoosh-pro-flat-peak-cap",
         "ACCESSORIES",
         "NIKE",
         "2024-08-16 08:37:24",
         "active",
         "2024-09-09",
         "9999-12-31"
        ],
        [
         "9433762726186",
         "The iconic ASICS Tiger GEL-Lyte III was originally released in 1990. Having over two decades of performance heritage, it offers fine design detailing and a padded split tongue to eliminate tongue movement, built on a sleek silhouette. It comes as no surprise the Gel-Lyte III is a fast growing popular choice for sneaker enthusiasts all over the world.",
         "ASICS TIGER | GEL-LYTE V '30 YEARS OF GEL' PACK",
         "asics-tiger-gel-lyte-v-30-years-of-gel-pack",
         "SHOES",
         "ASICS TIGER",
         "2024-08-16 08:35:34",
         "active",
         "2024-09-09",
         "9999-12-31"
        ],
        [
         "9433791234346",
         "Introducing the Converse Chuck Taylor All Star II Hi sneaker. Retaining the revolutionary silhouette we all rely on, but now made ever better. New features include Lunarlon sockliner adds cushioning and arch support. Micro-suede lining, premium textured shield canvas construction and a padded, non-slip tongue deliver superior comfort and durability. Moulded eyelets add a premium touch. The embossed, screen-printed license plate and embroidered, star-centered ankle patch add striking depth and dimension to recognizable, classic details.",
         "CONVERSE | CHUCK TAYLOR ALL STAR II HI",
         "converse-chuck-taylor-all-star-ii-hi",
         "SHOES",
         "CONVERSE",
         "2024-08-16 08:36:50",
         "active",
         "2024-09-09",
         "9999-12-31"
        ],
        [
         "9433788809514",
         "The Converse Chuck Taylor All Star II Lo sneaker. Retaining the revolutionary silhouette we all rely on, but now made even better. New features include Lunarlon sockliner, adding cushioning and arch support. Micro-suede lining, premium canvas construction and a padded, non-slip tongue deliver superior comfort and durability. Moulded eyelets add a premium touch. The embossed, screen-printed license plate and embroidered, star-centered ankle patch add striking depth and dimension to recognizable, classic details.",
         "CONVERSE | CHUCK TAYLOR ALL STAR LO",
         "converse-chuck-taylor-all-star-lo",
         "SHOES",
         "CONVERSE",
         "2024-08-16 08:36:44",
         "active",
         "2024-09-09",
         "9999-12-31"
        ],
        [
         "9433793495338",
         "The Converse Chuck Taylor All Star Axel recasts the iconic original in a refreshed silhouette for a premium look and feel. A no-tie design lets kids slip them on and go, while a rubber outsole delivers reliable traction from the classroom to the playground.",
         "CONVERSE | TODDLER CHUCK TAYLOR ALL STAR AXEL MID",
         "converse-toddler-chuck-taylor-all-star-axel-mid",
         "SHOES",
         "CONVERSE",
         "2024-08-16 08:36:56",
         "active",
         "2024-09-09",
         "9999-12-31"
        ],
        [
         "9433780125994",
         "Meet your new favorite tee, the Nike Crackle Print T-Shirt. Bringing its A-game in soft, premium fabric, it features a ribbed crew neck and a woven Nike label on the hem.",
         "NIKE | CRACKLE PRINT TB TEE",
         "nike-crackle-print-tb-tee",
         "T-SHIRTS",
         "NIKE",
         "2024-08-16 08:36:23",
         "active",
         "2024-09-09",
         "9999-12-31"
        ],
        [
         "9476055531818",
         "",
         "dummy3",
         "dummy3",
         "",
         "tylerstorecoding",
         "2024-09-08 22:15:32",
         "active",
         "2024-09-09",
         "9999-12-31"
        ],
        [
         "9476049010986",
         "",
         "dummy9-8",
         "dummy9-8",
         "",
         "tylerstorecoding",
         "2024-09-08 21:55:58",
         "active",
         "2024-09-09",
         "9999-12-31"
        ],
        [
         "9476049240362",
         null,
         null,
         null,
         null,
         null,
         null,
         null,
         "2024-09-09",
         "9999-12-31"
        ],
        [
         "9433768526122",
         "<p>There's a shell toe for every season, and the adidas Originals Superstar 80s shoes have a full grain leather upper with a shiny badge on the tongue that makes these shoes ready for any time of year.???</p>",
         "ADIDAS | SUPERSTAR 80S",
         "adidas-superstar-80s",
         "SHOES",
         "ADIDAS",
         "2024-08-16 08:35:51",
         "inactive",
         "2024-09-09",
         "2024-09-08"
        ],
        [
         "9433768526122",
         "<p>There's a shell toe for every season, and the adidas Originals Superstar 80s shoes have a full grain leather upper with a shiny badge on the tongue that makes these shoes ready for any time of year.</p>",
         "ADIDAS | SUPERSTAR 80S",
         "adidas-superstar-80s",
         "SHOES",
         "ADIDAS",
         "2024-08-16 08:35:51",
         "inactive",
         "2024-09-09",
         "2024-09-08"
        ],
        [
         "9433768526122",
         "<p>There's a shell toe for every season, and the adidas Originals Superstar 80s shoes have a full grain leather upper with a shiny badge on the tongue that makes these shoes ready for any time of year.111</p>",
         "ADIDAS | SUPERSTAR 80S",
         "adidas-superstar-80s",
         "SHOES",
         "ADIDAS",
         "2024-08-16 08:35:51",
         "active",
         "2024-09-09",
         "9999-12-31"
        ]
       ],
       "datasetInfos": [],
       "dbfsResultPath": null,
       "isJsonSchema": true,
       "metadata": {},
       "overflow": false,
       "plotOptions": {
        "customPlotOptions": {},
        "displayType": "table",
        "pivotAggregation": null,
        "pivotColumns": null,
        "xColumns": null,
        "yColumns": null
       },
       "removedWidgets": [],
       "schema": [
        {
         "metadata": "{}",
         "name": "id",
         "type": "\"string\""
        },
        {
         "metadata": "{}",
         "name": "body_html",
         "type": "\"string\""
        },
        {
         "metadata": "{}",
         "name": "title",
         "type": "\"string\""
        },
        {
         "metadata": "{}",
         "name": "handle",
         "type": "\"string\""
        },
        {
         "metadata": "{}",
         "name": "product_type",
         "type": "\"string\""
        },
        {
         "metadata": "{}",
         "name": "vendor",
         "type": "\"string\""
        },
        {
         "metadata": "{}",
         "name": "created_at",
         "type": "\"string\""
        },
        {
         "metadata": "{}",
         "name": "status",
         "type": "\"string\""
        },
        {
         "metadata": "{}",
         "name": "start_date",
         "type": "\"date\""
        },
        {
         "metadata": "{}",
         "name": "end_date",
         "type": "\"date\""
        }
       ],
       "type": "table"
      }
     },
     "output_type": "display_data"
    }
   ],
   "source": [
    "df=spark.sql(f\"select * from {table_name_dim};\")\n",
    "display(df)"
   ]
  },
  {
   "cell_type": "markdown",
   "metadata": {
    "application/vnd.databricks.v1+cell": {
     "cellMetadata": {
      "byteLimit": 2048000,
      "rowLimit": 10000
     },
     "inputWidgets": {},
     "nuid": "2ca13109-8971-49bf-ba85-f613f94dd8af",
     "showTitle": false,
     "title": ""
    }
   },
   "source": []
  }
 ],
 "metadata": {
  "application/vnd.databricks.v1+notebook": {
   "dashboards": [],
   "environmentMetadata": null,
   "language": "python",
   "notebookMetadata": {
    "mostRecentlyExecutedCommandWithImplicitDF": {
     "commandId": 2810425680480660,
     "dataframes": [
      "_sqldf"
     ]
    },
    "pythonIndentUnit": 4
   },
   "notebookName": "(FV) SCD2 function",
   "widgets": {}
  }
 },
 "nbformat": 4,
 "nbformat_minor": 0
}
