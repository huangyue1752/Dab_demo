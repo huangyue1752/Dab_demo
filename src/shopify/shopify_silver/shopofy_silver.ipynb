{
 "cells": [
  {
   "cell_type": "markdown",
   "metadata": {
    "application/vnd.databricks.v1+cell": {
     "cellMetadata": {
      "byteLimit": 2048000,
      "rowLimit": 10000
     },
     "inputWidgets": {},
     "nuid": "e1a287c0-1c5e-4649-ad56-a7b03707a663",
     "showTitle": false,
     "title": ""
    }
   },
   "source": [
    "Importing the libraries."
   ]
  },
  {
   "cell_type": "code",
   "execution_count": 0,
   "metadata": {
    "application/vnd.databricks.v1+cell": {
     "cellMetadata": {
      "byteLimit": 2048000,
      "rowLimit": 10000
     },
     "inputWidgets": {},
     "nuid": "d376948f-980e-4887-a319-45a525172d43",
     "showTitle": false,
     "title": ""
    }
   },
   "outputs": [],
   "source": [
    "from pyspark.sql.functions import *\n",
    "from pyspark.sql import functions as F\n",
    "from pyspark.sql.types import *\n",
    "\n",
    "\n",
    "from pyspark.sql.window import Window\n",
    "from delta.tables import DeltaTable\n",
    "from pyspark.sql.types import StructType, StructField, StringType, DoubleType, LongType, TimestampType\n",
    "from pyspark.dbutils import DBUtils"
   ]
  },
  {
   "cell_type": "code",
   "execution_count": 0,
   "metadata": {
    "application/vnd.databricks.v1+cell": {
     "cellMetadata": {
      "byteLimit": 2048000,
      "rowLimit": 10000
     },
     "inputWidgets": {},
     "nuid": "3dab5bd2-8150-4afc-837a-8362f7d5438f",
     "showTitle": false,
     "title": ""
    }
   },
   "outputs": [
    {
     "output_type": "stream",
     "name": "stdout",
     "output_type": "stream",
     "text": [
      "/Volumes/streaming1/silver/checkpoints/(silver FV) Real-time Data Processing with Azure Databricks (and Event Hubs)-2/\n"
     ]
    }
   ],
   "source": [
    "# Databricks notebook source\n",
    "\n",
    "\n",
    "# COMMAND ----------\n",
    "\n",
    "catalog_name = \"streaming1\"\n",
    "db_name = \"silver\"\n",
    "table_name='shopify_orders'\n",
    "\n",
    "\n",
    "\n",
    "dbutils.widgets.dropdown(\"trigger_available_now\", \"False\", [\"True\", \"False\"])\n",
    "trigger_available_now = dbutils.widgets.get(\"trigger_available_now\") == \"True\"\n",
    "\n",
    "notebook_name = DBUtils(spark).notebook.entry_point.getDbutils().notebook().getContext().notebookPath().get().split(\"/\")[-1].split(\".\")[0]\n",
    "checkpoint_path = f\"/Volumes/{catalog_name}/{db_name}/checkpoints/{notebook_name}/\"\n",
    "print(checkpoint_path)\n",
    "\n"
   ]
  },
  {
   "cell_type": "code",
   "execution_count": 0,
   "metadata": {
    "application/vnd.databricks.v1+cell": {
     "cellMetadata": {
      "byteLimit": 2048000,
      "rowLimit": 10000
     },
     "inputWidgets": {},
     "nuid": "67a92e2b-f934-4c52-b7e8-5d22b0100d6a",
     "showTitle": false,
     "title": ""
    }
   },
   "outputs": [],
   "source": [
    "\n",
    "try:\n",
    "    spark.sql(f\"create schema if not exists {catalog_name}.{db_name} ;\") \n",
    "except:\n",
    "    print('check if silver schema already exists')\n",
    "\n",
    "try:\n",
    "    spark.sql(f\"CREATE VOLUME IF NOT EXISTS {catalog_name}.{db_name}.checkpoints;\") \n",
    "except:\n",
    "    print('check if silver checkpoints already exists')\n",
    "\n",
    "\n"
   ]
  },
  {
   "cell_type": "markdown",
   "metadata": {
    "application/vnd.databricks.v1+cell": {
     "cellMetadata": {
      "byteLimit": 2048000,
      "rowLimit": 10000
     },
     "inputWidgets": {},
     "nuid": "dbee364e-6b7e-420f-8b98-8a12d663d880",
     "showTitle": false,
     "title": ""
    }
   },
   "source": [
    "#### Silver Layer"
   ]
  },
  {
   "cell_type": "code",
   "execution_count": 0,
   "metadata": {
    "application/vnd.databricks.v1+cell": {
     "cellMetadata": {
      "byteLimit": 2048000,
      "rowLimit": 10000
     },
     "inputWidgets": {},
     "nuid": "49fcf4c6-e334-4881-8126-4dfd2d9dd779",
     "showTitle": false,
     "title": ""
    }
   },
   "outputs": [],
   "source": [
    "json_schema = StructType([StructField(\"id\",StringType(),True),\n",
    "                      StructField(\"cancel_reason\",StringType(),True),\n",
    "                      StructField(\"cancelled_at\", StringType(),True),\n",
    "                      StructField(\"checkout_id\",StringType(),True),\n",
    "                      StructField(\"created_at\",StringType(),True),\n",
    "                      StructField(\"customer_locale\", StringType(),True),\n",
    "                      StructField(\"financial_status\",StringType(),True),\n",
    "                      StructField(\"presentment_currency\",StringType(),True),\n",
    "                      StructField(\"processed_at\",StringType(),True),\n",
    "                      StructField(\"subtotal_price\",StringType(),True),\n",
    "                      StructField(\"billing_address\",StructType(\n",
    "                          [StructField('province', StringType()),\n",
    "                           StructField('country', StringType())]),True),\n",
    "                      StructField(\"line_items\",\n",
    "                          ArrayType(   (StructType([StructField('product_id', StringType()),\n",
    "                                                     StructField('fulfillable_quantity', StringType()),\n",
    "                                                     StructField('price', StringType())]  )  )  )\n",
    "                                                         ,True)\n",
    "                      ])\n",
    "\n"
   ]
  },
  {
   "cell_type": "code",
   "execution_count": 0,
   "metadata": {
    "application/vnd.databricks.v1+cell": {
     "cellMetadata": {
      "byteLimit": 2048000,
      "rowLimit": 10000
     },
     "inputWidgets": {},
     "nuid": "5a02b566-ce89-435d-b456-880e088c357e",
     "showTitle": false,
     "title": ""
    }
   },
   "outputs": [
    {
     "output_type": "display_data",
     "data": {
      "text/html": [
       "<style scoped>\n",
       "  .table-result-container {\n",
       "    max-height: 300px;\n",
       "    overflow: auto;\n",
       "  }\n",
       "  table, th, td {\n",
       "    border: 1px solid black;\n",
       "    border-collapse: collapse;\n",
       "  }\n",
       "  th, td {\n",
       "    padding: 5px;\n",
       "  }\n",
       "  th {\n",
       "    text-align: left;\n",
       "  }\n",
       "</style><div class='table-result-container'><table class='table-result'><thead style='background-color: white'><tr><th>id</th><th>cancel_reason</th><th>cancelled_at</th><th>checkout_id</th><th>created_at</th><th>customer_locale</th><th>financial_status</th><th>presentment_currency</th><th>processed_at</th><th>subtotal_price</th><th>province</th><th>country</th><th>product_id</th><th>fulfillable_quantity</th><th>price</th></tr></thead><tbody><tr><td>6145856831786</td><td>null</td><td>null</td><td>37682609324330</td><td>2024-09-08T21:41:38-04:00</td><td>en-CA</td><td>paid</td><td>CAD</td><td>2024-09-08T21:41:37-04:00</td><td>240.00</td><td>Quebec</td><td>Canada</td><td>9433793495338</td><td>1</td><td>70.00</td></tr><tr><td>6145856831786</td><td>null</td><td>null</td><td>37682609324330</td><td>2024-09-08T21:41:38-04:00</td><td>en-CA</td><td>paid</td><td>CAD</td><td>2024-09-08T21:41:37-04:00</td><td>240.00</td><td>Quebec</td><td>Canada</td><td>9433768526122</td><td>1</td><td>170.00</td></tr><tr><td>6145862598954</td><td>null</td><td>null</td><td>37682624921898</td><td>2024-09-08T21:50:07-04:00</td><td>en-CA</td><td>paid</td><td>CAD</td><td>2024-09-08T21:50:06-04:00</td><td>360.00</td><td>Quebec</td><td>Canada</td><td>9433791234346</td><td>1</td><td>140.00</td></tr><tr><td>6145862598954</td><td>null</td><td>null</td><td>37682624921898</td><td>2024-09-08T21:50:07-04:00</td><td>en-CA</td><td>paid</td><td>CAD</td><td>2024-09-08T21:50:06-04:00</td><td>360.00</td><td>Quebec</td><td>Canada</td><td>9433762726186</td><td>1</td><td>220.00</td></tr><tr><td>6145863745834</td><td>null</td><td>null</td><td>37682627805482</td><td>2024-09-08T21:51:47-04:00</td><td>en-CA</td><td>paid</td><td>CAD</td><td>2024-09-08T21:51:46-04:00</td><td>339.90</td><td>Quebec</td><td>Canada</td><td>9433758531882</td><td>1</td><td>179.95</td></tr><tr><td>6145863745834</td><td>null</td><td>null</td><td>37682627805482</td><td>2024-09-08T21:51:47-04:00</td><td>en-CA</td><td>paid</td><td>CAD</td><td>2024-09-08T21:51:46-04:00</td><td>339.90</td><td>Quebec</td><td>Canada</td><td>9433760694570</td><td>1</td><td>159.95</td></tr><tr><td>6145554776362</td><td>null</td><td>null</td><td>37682049941802</td><td>2024-09-08T15:49:17-04:00</td><td>en-CA</td><td>paid</td><td>CAD</td><td>2024-09-08T15:49:16-04:00</td><td>360.00</td><td>Quebec</td><td>Canada</td><td>9433762726186</td><td>1</td><td>220.00</td></tr><tr><td>6145554776362</td><td>null</td><td>null</td><td>37682049941802</td><td>2024-09-08T15:49:17-04:00</td><td>en-CA</td><td>paid</td><td>CAD</td><td>2024-09-08T15:49:16-04:00</td><td>360.00</td><td>Quebec</td><td>Canada</td><td>9433791234346</td><td>1</td><td>140.00</td></tr><tr><td>6145597210922</td><td>null</td><td>null</td><td>37682120786218</td><td>2024-09-08T16:24:53-04:00</td><td>en-CA</td><td>paid</td><td>CAD</td><td>2024-09-08T16:24:52-04:00</td><td>170.00</td><td>Quebec</td><td>Canada</td><td>9433768526122</td><td>1</td><td>170.00</td></tr></tbody></table></div>"
      ]
     },
     "metadata": {
      "application/vnd.databricks.v1+output": {
       "addedWidgets": {},
       "aggData": [],
       "aggError": "",
       "aggOverflow": false,
       "aggSchema": [],
       "aggSeriesLimitReached": false,
       "aggType": "",
       "arguments": {},
       "columnCustomDisplayInfos": {},
       "data": [
        [
         "6145856831786",
         null,
         null,
         "37682609324330",
         "2024-09-08T21:41:38-04:00",
         "en-CA",
         "paid",
         "CAD",
         "2024-09-08T21:41:37-04:00",
         "240.00",
         "Quebec",
         "Canada",
         "9433793495338",
         "1",
         "70.00"
        ],
        [
         "6145856831786",
         null,
         null,
         "37682609324330",
         "2024-09-08T21:41:38-04:00",
         "en-CA",
         "paid",
         "CAD",
         "2024-09-08T21:41:37-04:00",
         "240.00",
         "Quebec",
         "Canada",
         "9433768526122",
         "1",
         "170.00"
        ],
        [
         "6145862598954",
         null,
         null,
         "37682624921898",
         "2024-09-08T21:50:07-04:00",
         "en-CA",
         "paid",
         "CAD",
         "2024-09-08T21:50:06-04:00",
         "360.00",
         "Quebec",
         "Canada",
         "9433791234346",
         "1",
         "140.00"
        ],
        [
         "6145862598954",
         null,
         null,
         "37682624921898",
         "2024-09-08T21:50:07-04:00",
         "en-CA",
         "paid",
         "CAD",
         "2024-09-08T21:50:06-04:00",
         "360.00",
         "Quebec",
         "Canada",
         "9433762726186",
         "1",
         "220.00"
        ],
        [
         "6145863745834",
         null,
         null,
         "37682627805482",
         "2024-09-08T21:51:47-04:00",
         "en-CA",
         "paid",
         "CAD",
         "2024-09-08T21:51:46-04:00",
         "339.90",
         "Quebec",
         "Canada",
         "9433758531882",
         "1",
         "179.95"
        ],
        [
         "6145863745834",
         null,
         null,
         "37682627805482",
         "2024-09-08T21:51:47-04:00",
         "en-CA",
         "paid",
         "CAD",
         "2024-09-08T21:51:46-04:00",
         "339.90",
         "Quebec",
         "Canada",
         "9433760694570",
         "1",
         "159.95"
        ],
        [
         "6145554776362",
         null,
         null,
         "37682049941802",
         "2024-09-08T15:49:17-04:00",
         "en-CA",
         "paid",
         "CAD",
         "2024-09-08T15:49:16-04:00",
         "360.00",
         "Quebec",
         "Canada",
         "9433762726186",
         "1",
         "220.00"
        ],
        [
         "6145554776362",
         null,
         null,
         "37682049941802",
         "2024-09-08T15:49:17-04:00",
         "en-CA",
         "paid",
         "CAD",
         "2024-09-08T15:49:16-04:00",
         "360.00",
         "Quebec",
         "Canada",
         "9433791234346",
         "1",
         "140.00"
        ],
        [
         "6145597210922",
         null,
         null,
         "37682120786218",
         "2024-09-08T16:24:53-04:00",
         "en-CA",
         "paid",
         "CAD",
         "2024-09-08T16:24:52-04:00",
         "170.00",
         "Quebec",
         "Canada",
         "9433768526122",
         "1",
         "170.00"
        ]
       ],
       "datasetInfos": [],
       "dbfsResultPath": null,
       "isJsonSchema": true,
       "metadata": {
        "isDbfsCommandResult": false
       },
       "overflow": false,
       "plotOptions": {
        "customPlotOptions": {},
        "displayType": "table",
        "pivotAggregation": null,
        "pivotColumns": null,
        "xColumns": null,
        "yColumns": null
       },
       "removedWidgets": [],
       "schema": [
        {
         "metadata": "{}",
         "name": "id",
         "type": "\"string\""
        },
        {
         "metadata": "{}",
         "name": "cancel_reason",
         "type": "\"string\""
        },
        {
         "metadata": "{}",
         "name": "cancelled_at",
         "type": "\"string\""
        },
        {
         "metadata": "{}",
         "name": "checkout_id",
         "type": "\"string\""
        },
        {
         "metadata": "{}",
         "name": "created_at",
         "type": "\"string\""
        },
        {
         "metadata": "{}",
         "name": "customer_locale",
         "type": "\"string\""
        },
        {
         "metadata": "{}",
         "name": "financial_status",
         "type": "\"string\""
        },
        {
         "metadata": "{}",
         "name": "presentment_currency",
         "type": "\"string\""
        },
        {
         "metadata": "{}",
         "name": "processed_at",
         "type": "\"string\""
        },
        {
         "metadata": "{}",
         "name": "subtotal_price",
         "type": "\"string\""
        },
        {
         "metadata": "{}",
         "name": "province",
         "type": "\"string\""
        },
        {
         "metadata": "{}",
         "name": "country",
         "type": "\"string\""
        },
        {
         "metadata": "{}",
         "name": "product_id",
         "type": "\"string\""
        },
        {
         "metadata": "{}",
         "name": "fulfillable_quantity",
         "type": "\"string\""
        },
        {
         "metadata": "{}",
         "name": "price",
         "type": "\"string\""
        }
       ],
       "type": "table"
      }
     },
     "output_type": "display_data"
    }
   ],
   "source": [
    "# Reading and Transforming: Load streaming data from the 'streaming.bronze.weather' Delta table, cast 'body' to string, parse JSON, and select specific fields\n",
    "df = spark.readStream\\\n",
    "    .format(\"delta\")\\\n",
    "    .table(f\"{catalog_name}.bronze.{table_name}\")\\\n",
    "    .withColumn(\"body\", col(\"body\").cast(\"string\"))\\\n",
    "    .withColumn(\"body\",from_json(col(\"body\"), json_schema))\\\n",
    "    .select(\"body.id\",\"body.cancel_reason\",\"body.cancelled_at\",\"body.checkout_id\",\"body.created_at\",\"body.customer_locale\",\"body.financial_status\",\"body.presentment_currency\",\"body.processed_at\",\"body.subtotal_price\",\"body.billing_address.province\",\"body.billing_address.country\", explode(\"body.line_items\").alias(\"Input_array\"))\\\n",
    "    .select(\"id\",\"cancel_reason\",\"cancelled_at\",\"checkout_id\",\"created_at\",\"customer_locale\",\"financial_status\",\"presentment_currency\",\"processed_at\",\"subtotal_price\",\"province\",\"country\",F.col('Input_array.product_id'),F.col('Input_array.fulfillable_quantity').alias('fulfillable_quantity'),F.col('Input_array.price').alias('price'))\n",
    "    \n",
    "\n",
    "\n",
    "# Displaying stream: Visualize the transformed data in the DataFrame for verification and analysis\n",
    "df.display()\n",
    "\n",
    "# Writing stream: Save the transformed data to the 'streaming.silver.weather' Delta table in 'append' mode with checkpointing for data reliability\n",
    "df.writeStream\\\n",
    "    .option(\"checkpointLocation\", checkpoint_path)\\\n",
    "    .outputMode(\"append\")\\\n",
    "    .format(\"delta\")\\\n",
    "    .toTable(f\"{catalog_name}.{db_name}.{table_name}\")"
   ]
  }
 ],
 "metadata": {
  "application/vnd.databricks.v1+notebook": {
   "dashboards": [],
   "environmentMetadata": {
    "base_environment": "",
    "client": "1"
   },
   "language": "python",
   "notebookMetadata": {
    "mostRecentlyExecutedCommandWithImplicitDF": {
     "commandId": 4016826182764860,
     "dataframes": [
      "_sqldf"
     ]
    },
    "pythonIndentUnit": 4
   },
   "notebookName": "(silver FV) Real-time Data Processing Shopify",
   "widgets": {
    "trigger_available_now": {
     "currentValue": "False",
     "nuid": "7456c25e-9327-4b82-b33d-7ef8475d9e97",
     "typedWidgetInfo": {
      "autoCreated": false,
      "defaultValue": "False",
      "label": null,
      "name": "trigger_available_now",
      "options": {
       "widgetDisplayType": "Dropdown",
       "choices": [
        "True",
        "False"
       ],
       "fixedDomain": true,
       "multiselect": false
      },
      "parameterDataType": "String"
     },
     "widgetInfo": {
      "widgetType": "dropdown",
      "defaultValue": "False",
      "label": null,
      "name": "trigger_available_now",
      "options": {
       "widgetType": "dropdown",
       "autoCreated": null,
       "choices": [
        "True",
        "False"
       ]
      }
     }
    }
   }
  },
  "language_info": {
   "name": "python"
  }
 },
 "nbformat": 4,
 "nbformat_minor": 0
}
